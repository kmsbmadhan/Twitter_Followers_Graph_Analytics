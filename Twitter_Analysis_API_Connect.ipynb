{
 "cells": [
  {
   "cell_type": "code",
   "execution_count": 24,
   "metadata": {},
   "outputs": [],
   "source": [
    "import oauth2 as oauth\n",
    "import json\n"
   ]
  },
  {
   "cell_type": "code",
   "execution_count": 33,
   "metadata": {},
   "outputs": [],
   "source": [
    "#Load the json file\n",
    "with open('config1.json') as file:\n",
    "    tokens = json.loads(file.read())\n"
   ]
  },
  {
   "cell_type": "code",
   "execution_count": 34,
   "metadata": {},
   "outputs": [
    {
     "data": {
      "text/plain": [
       "<oauth2.Client at 0x7f4851c75a20>"
      ]
     },
     "execution_count": 34,
     "metadata": {},
     "output_type": "execute_result"
    }
   ],
   "source": [
    "    \n",
    "#Read the consumer keys\n",
    "consumer = oauth.Consumer(key = tokens['CONSUMER_KEY'], secret = tokens['CONSUMER_SECRET'])\n",
    "\n",
    "\n",
    "#Read the tokens key and secret\n",
    "token = oauth.Token(key = tokens['ACCESS_TOKEN'], secret = tokens['ACCESS_SECRET'])\n",
    "\n",
    "#Create client object\n",
    "client = oauth.Client(consumer,token)\n",
    "\n",
    "client\n"
   ]
  },
  {
   "cell_type": "code",
   "execution_count": 35,
   "metadata": {},
   "outputs": [],
   "source": [
    "import json"
   ]
  },
  {
   "cell_type": "code",
   "execution_count": 51,
   "metadata": {},
   "outputs": [],
   "source": [
    "FOLLOWERS_URL = 'https://api.twitter.com/1.1/followers/list.json'\n",
    "\n",
    "#twitter handle\n",
    "screen_name = 'bmadhan'\n",
    "\n",
    "url = FOLLOWERS_URL+'?screen_name='+screen_name\n",
    "\n",
    "header , response  = client.request(url,method='GET')"
   ]
  },
  {
   "cell_type": "code",
   "execution_count": 52,
   "metadata": {},
   "outputs": [
    {
     "name": "stdout",
     "output_type": "stream",
     "text": [
      "status: 200\n"
     ]
    }
   ],
   "source": [
    "print('status:',header['status'])"
   ]
  }
 ],
 "metadata": {
  "kernelspec": {
   "display_name": "Python 3",
   "language": "python",
   "name": "python3"
  },
  "language_info": {
   "codemirror_mode": {
    "name": "ipython",
    "version": 3
   },
   "file_extension": ".py",
   "mimetype": "text/x-python",
   "name": "python",
   "nbconvert_exporter": "python",
   "pygments_lexer": "ipython3",
   "version": "3.6.6"
  }
 },
 "nbformat": 4,
 "nbformat_minor": 2
}
